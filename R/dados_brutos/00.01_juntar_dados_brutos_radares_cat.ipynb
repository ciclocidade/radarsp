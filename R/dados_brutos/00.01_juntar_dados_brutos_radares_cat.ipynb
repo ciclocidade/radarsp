{
 "cells": [
  {
   "cell_type": "code",
   "execution_count": 1,
   "id": "518849c9",
   "metadata": {},
   "outputs": [],
   "source": [
    "suppressPackageStartupMessages(library('tidyverse'))\n",
    "# suppressPackageStartupMessages(library('data.table'))\n",
    "# library('tidylog')"
   ]
  },
  {
   "cell_type": "code",
   "execution_count": 2,
   "id": "89710240",
   "metadata": {},
   "outputs": [],
   "source": [
    "# Nome base para gravar o arquivo\n",
    "basename <- 'L4_2014'\n",
    "\n",
    "# Estrutura de nomes e pastas\n",
    "pasta_base <- '/media/livre/SSD120GB/tmp_radares1'\n",
    "\n",
    "# Os arquivos devem ter sido descompactados em uma pasta única, checar\n",
    "pasta_meses <- list.dirs(pasta_base, full.names = FALSE, recursive = FALSE)\n",
    "pasta_base_mes  <- sprintf('%s/%s', pasta_base, pasta_meses[[1]])\n",
    "\n",
    "# Cada dia deve estar em uma pasta única - a quantidade de pastas\n",
    "pastas_dias <- list.dirs(pasta_base_mes, full.names = FALSE, recursive = FALSE)\n",
    "# dia <- pastas_dias[[1]]\n",
    "\n",
    "# Guardar pasta original do script\n",
    "pasta_orig <- getwd()"
   ]
  },
  {
   "cell_type": "code",
   "execution_count": 3,
   "id": "b5094e35",
   "metadata": {},
   "outputs": [
    {
     "name": "stdout",
     "output_type": "stream",
     "text": [
      "[1] \"/media/livre/SSD120GB/tmp_radares1/07/06\"\n",
      "[1] \"/media/livre/SSD120GB/tmp_radares1/07/07\"\n",
      "[1] \"/media/livre/SSD120GB/tmp_radares1/07/08\"\n",
      "[1] \"/media/livre/SSD120GB/tmp_radares1/07/15\"\n",
      "[1] \"/media/livre/SSD120GB/tmp_radares1/07/16\"\n",
      "[1] \"/media/livre/SSD120GB/tmp_radares1/07/17\"\n",
      "[1] \"/media/livre/SSD120GB/tmp_radares1/07/22\"\n",
      "[1] \"/media/livre/SSD120GB/tmp_radares1/07/26\"\n",
      "[1] \"/media/livre/SSD120GB/tmp_radares1/07/27\"\n",
      "[1] \"/media/livre/SSD120GB/tmp_radares1/07/28\"\n",
      "[1] \"/media/livre/SSD120GB/tmp_radares1/07/29\"\n",
      "[1] \"/media/livre/SSD120GB/tmp_radares1/07/30\"\n",
      "[1] \"/media/livre/SSD120GB/tmp_radares1/07/31\"\n"
     ]
    }
   ],
   "source": [
    "# ------------------------------------------------------------------------------\n",
    "# Processar todas as pastas de cada dia do mês\n",
    "# ------------------------------------------------------------------------------\n",
    "\n",
    "for (dia in pastas_dias) {\n",
    "\n",
    "  # Entrar em cada pasta de dia\n",
    "  pasta_base_dia <- sprintf('%s/%s', pasta_base_mes, dia)\n",
    "  print(pasta_base_dia)\n",
    "\n",
    "  # Juntar todos os arquivos .txt .TXT daquele dia em um só\n",
    "  find_path <- sprintf(\"/usr/bin/find\")\n",
    "  find_arg1 <- sprintf(\"%s\", pasta_base_dia)\n",
    "  find_arg2 <- \"-name \\\"*.[Tt][Xx][Tt]\\\" -exec\"\n",
    "  cat_path <- sprintf(\"/bin/cat\")\n",
    "  cat_arg  <- sprintf(\"{} > %s/%s%s%s.txt\", pasta_base, basename, pasta_meses, dia)\n",
    "  final_arg <- \"\\\\;\"\n",
    "  sprintf('%s %s %s %s %s %s', find_path, find_arg1, find_arg2, cat_path, cat_arg, final_arg)\n",
    "  system2(command = find_path, args = c(find_arg1, find_arg2, cat_path, cat_arg, final_arg))\n",
    "\n",
    "  # Limpar ambiente\n",
    "  # rm(find_path, find_arg1, find_arg2, cat_path, cat_arg, final_arg, dia)\n",
    "\n",
    "  # Remover a pasta do dia recém processada\n",
    "  unlink(pasta_base_dia, recursive = TRUE)\n",
    "\n",
    "}"
   ]
  },
  {
   "cell_type": "code",
   "execution_count": 4,
   "id": "a63f28ba",
   "metadata": {},
   "outputs": [
    {
     "data": {
      "text/html": [
       "'/usr/bin/zip /media/livre/SSD120GB/tmp_radares1/L4_201407.zip /media/livre/SSD120GB/tmp_radares1/L4_201407*.txt'"
      ],
      "text/latex": [
       "'/usr/bin/zip /media/livre/SSD120GB/tmp\\_radares1/L4\\_201407.zip /media/livre/SSD120GB/tmp\\_radares1/L4\\_201407*.txt'"
      ],
      "text/markdown": [
       "'/usr/bin/zip /media/livre/SSD120GB/tmp_radares1/L4_201407.zip /media/livre/SSD120GB/tmp_radares1/L4_201407*.txt'"
      ],
      "text/plain": [
       "[1] \"/usr/bin/zip /media/livre/SSD120GB/tmp_radares1/L4_201407.zip /media/livre/SSD120GB/tmp_radares1/L4_201407*.txt\""
      ]
     },
     "metadata": {},
     "output_type": "display_data"
    }
   ],
   "source": [
    "# -----------------------------------------------------------------------------\n",
    "# Compactar resultados\n",
    "# -----------------------------------------------------------------------------\n",
    "\n",
    "# Remover a pasta base do mês recém processada\n",
    "unlink(pasta_base_mes, recursive = TRUE)\n",
    "\n",
    "# Padrão de arquivos por mês\n",
    "basename_mes <- sprintf('%s%s', basename, pasta_meses)\n",
    "\n",
    "# # Compactar arquivos - 7z\n",
    "# sevenzip_path <- sprintf(\"/usr/bin/7z\")\n",
    "# arg1 <- \"a -mx=9\"\n",
    "# arg2 <- sprintf(\"%s/%s.7z\", pasta_base, basename_mes)\n",
    "# arg3 <- sprintf(\"%s/%s*.csv\", pasta_base, basename_mes)\n",
    "# sprintf('%s %s %s %s', sevenzip_path, arg1, arg2, arg3)\n",
    "# system2(command = sevenzip_path, args = c(arg1, arg2, arg3))\n",
    "\n",
    "# Compactar arquivos - Zip\n",
    "zip_path <- sprintf(\"/usr/bin/zip\")\n",
    "arg1 <- sprintf(\"%s/%s.zip\", pasta_base, basename_mes)\n",
    "arg2 <- sprintf(\"%s/%s*.txt\", pasta_base, basename_mes)\n",
    "sprintf('%s %s %s', zip_path, arg1, arg2)\n",
    "system2(command = zip_path, args = c(arg1, arg2))"
   ]
  },
  {
   "cell_type": "code",
   "execution_count": null,
   "id": "bff96890",
   "metadata": {},
   "outputs": [],
   "source": []
  }
 ],
 "metadata": {
  "kernelspec": {
   "display_name": "R [conda env:r4_env]",
   "language": "R",
   "name": "conda-env-r4_env-r"
  },
  "language_info": {
   "codemirror_mode": "r",
   "file_extension": ".r",
   "mimetype": "text/x-r-source",
   "name": "R",
   "pygments_lexer": "r",
   "version": "4.0.5"
  }
 },
 "nbformat": 4,
 "nbformat_minor": 5
}
